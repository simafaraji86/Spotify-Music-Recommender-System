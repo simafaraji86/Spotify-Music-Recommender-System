{
 "cells": [
  {
   "cell_type": "markdown",
   "id": "d9520a46",
   "metadata": {},
   "source": [
    "### Import needed libraries "
   ]
  },
  {
   "cell_type": "code",
   "execution_count": 1,
   "id": "77594142",
   "metadata": {},
   "outputs": [],
   "source": [
    "import pandas as pd\n",
    "import numpy as np\n",
    "from sklearn.preprocessing import MinMaxScaler\n",
    "from sklearn.metrics.pairwise import cosine_similarity, sigmoid_kernel\n",
    "import spotipy \n",
    "from spotipy.oauth2 import SpotifyClientCredentials\n",
    "import cred"
   ]
  },
  {
   "cell_type": "markdown",
   "id": "afebd510",
   "metadata": {},
   "source": [
    "### Loading data"
   ]
  },
  {
   "cell_type": "code",
   "execution_count": 2,
   "id": "ef9781b6",
   "metadata": {},
   "outputs": [],
   "source": [
    "ccm = SpotifyClientCredentials(cred.client_ID, cred.client_SECRET)\n",
    "sp = spotipy.Spotify(ccm)"
   ]
  },
  {
   "cell_type": "markdown",
   "id": "b1d4890c",
   "metadata": {},
   "source": [
    "# Understanding the dataset"
   ]
  },
  {
   "cell_type": "code",
   "execution_count": 20,
   "id": "b92f891c",
   "metadata": {},
   "outputs": [
    {
     "name": "stdout",
     "output_type": "stream",
     "text": [
      "<class 'pandas.core.frame.DataFrame'>\n",
      "RangeIndex: 100 entries, 0 to 99\n",
      "Data columns (total 19 columns):\n",
      " #   Column            Non-Null Count  Dtype  \n",
      "---  ------            --------------  -----  \n",
      " 0   valence           100 non-null    float64\n",
      " 1   year              100 non-null    int64  \n",
      " 2   acousticness      100 non-null    float64\n",
      " 3   artists           100 non-null    object \n",
      " 4   danceability      100 non-null    float64\n",
      " 5   duration_ms       100 non-null    int64  \n",
      " 6   energy            100 non-null    float64\n",
      " 7   explicit          100 non-null    int64  \n",
      " 8   id                100 non-null    object \n",
      " 9   instrumentalness  100 non-null    float64\n",
      " 10  key               100 non-null    int64  \n",
      " 11  liveness          100 non-null    float64\n",
      " 12  loudness          100 non-null    float64\n",
      " 13  mode              100 non-null    int64  \n",
      " 14  name              100 non-null    object \n",
      " 15  popularity        100 non-null    int64  \n",
      " 16  release_date      100 non-null    object \n",
      " 17  speechiness       100 non-null    float64\n",
      " 18  tempo             100 non-null    float64\n",
      "dtypes: float64(9), int64(6), object(4)\n",
      "memory usage: 15.0+ KB\n"
     ]
    }
   ],
   "source": [
    "data.info()"
   ]
  },
  {
   "cell_type": "markdown",
   "id": "ba8acb41",
   "metadata": {},
   "source": [
    "# Scaling the numerical features"
   ]
  },
  {
   "cell_type": "code",
   "execution_count": 21,
   "id": "1d56a2e9",
   "metadata": {},
   "outputs": [],
   "source": [
    "feature_columns = ['acousticness', 'danceability', 'duration_ms', 'energy',\n",
    "                  'instrumentalness', 'key', 'liveness', 'loudness', 'mode',\n",
    "                  'speechiness', 'tempo', 'valence',]\n",
    "scaler = MinMaxScaler()\n",
    "X_scaled = scaler.fit_transform(data[feature_columns])"
   ]
  },
  {
   "cell_type": "markdown",
   "id": "6bc8c9aa",
   "metadata": {},
   "source": [
    "# Building Recommender System using Cosine Similarity"
   ]
  },
  {
   "cell_type": "code",
   "execution_count": 35,
   "id": "7f2191e0",
   "metadata": {},
   "outputs": [
    {
     "name": "stdout",
     "output_type": "stream",
     "text": [
      "Recommended Songs:\n",
      "['Come Back To Erin' 'April Showers' 'When Irish Eyes Are Smiling']\n"
     ]
    }
   ],
   "source": [
    "indeces = pd.Series(data.index, index = data['name']).drop_duplicates()\n",
    "indeces\n",
    "\n",
    "cosine = cosine_similarity(X_scaled)\n",
    "cosine.shape\n",
    "\n",
    "def recommender(song_name, model_type = cosine):\n",
    "    index = indeces[song_name]\n",
    "    score = list(enumerate(model_type[indeces[song_name]]))\n",
    "    similarity_score = sorted(score, key = lambda x: x[1], reverse = True)[1:4]\n",
    "    top_songs_index = [i[0] for i in similarity_score]    \n",
    "    top_songs = data['name'].iloc[top_songs_index]\n",
    "    \n",
    "    return top_songs\n",
    "\n",
    "print(\"Recommended Songs:\")\n",
    "print(recommender('Danny Boy',cosine).values)\n"
   ]
  },
  {
   "cell_type": "code",
   "execution_count": 37,
   "id": "ba918fe3",
   "metadata": {},
   "outputs": [
    {
     "name": "stdout",
     "output_type": "stream",
     "text": [
      "Recommended Songs:\n",
      "['Il Etait Syndiqué' 'Gati Harjuna Mangsah' 'Rákóczy March']\n"
     ]
    }
   ],
   "source": [
    "sigmoid = sigmoid_kernel(X_scaled)\n",
    "\n",
    "\n",
    "print(\"Recommended Songs:\")\n",
    "print(recommender('Danny Boy',sigmoid).values)\n"
   ]
  },
  {
   "cell_type": "code",
   "execution_count": null,
   "id": "dbdf67fb",
   "metadata": {},
   "outputs": [],
   "source": []
  }
 ],
 "metadata": {
  "kernelspec": {
   "display_name": "Python 3 (ipykernel)",
   "language": "python",
   "name": "python3"
  },
  "language_info": {
   "codemirror_mode": {
    "name": "ipython",
    "version": 3
   },
   "file_extension": ".py",
   "mimetype": "text/x-python",
   "name": "python",
   "nbconvert_exporter": "python",
   "pygments_lexer": "ipython3",
   "version": "3.9.7"
  }
 },
 "nbformat": 4,
 "nbformat_minor": 5
}
